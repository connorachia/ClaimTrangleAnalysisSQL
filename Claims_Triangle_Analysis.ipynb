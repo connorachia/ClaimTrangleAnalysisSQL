{
 "cells": [
  {
   "cell_type": "markdown",
   "id": "89969037",
   "metadata": {},
   "source": [
    "# 🧮 Insurance Claims Triangle Analysis: Connor Chia\n",
    "I will analyze multi-year claims triangle data using SQL and Python to simulate real-world actuarial skills.\n",
    "In this project, my goals were to:\n",
    "- Query triangle data using SQL\n",
    "- Pivot it into triangle form\n",
    "- Calculate link ratios\n",
    "- Estimate ultimate claims\n",
    "- Visualize the triangle as a heatmap"
   ]
  },
  {
   "cell_type": "code",
   "execution_count": 3,
   "id": "6680541e",
   "metadata": {},
   "outputs": [],
   "source": [
    "import sqlite3\n",
    "import pandas as pd\n",
    "import numpy as np\n",
    "import matplotlib.pyplot as plt\n",
    "import seaborn as sns\n",
    "\n",
    "# Connect to the SQLite database\n",
    "conn = sqlite3.connect('claims_triangle.db')"
   ]
  },
  {
   "cell_type": "markdown",
   "id": "6b42b704",
   "metadata": {},
   "source": [
    "## 🔍 Step 1: View Raw Claims Triangle Data"
   ]
  },
  {
   "cell_type": "code",
   "execution_count": 4,
   "id": "4e03e12c",
   "metadata": {},
   "outputs": [
    {
     "data": {
      "text/html": [
       "<div>\n",
       "<style scoped>\n",
       "    .dataframe tbody tr th:only-of-type {\n",
       "        vertical-align: middle;\n",
       "    }\n",
       "\n",
       "    .dataframe tbody tr th {\n",
       "        vertical-align: top;\n",
       "    }\n",
       "\n",
       "    .dataframe thead th {\n",
       "        text-align: right;\n",
       "    }\n",
       "</style>\n",
       "<table border=\"1\" class=\"dataframe\">\n",
       "  <thead>\n",
       "    <tr style=\"text-align: right;\">\n",
       "      <th></th>\n",
       "      <th>AccidentYear</th>\n",
       "      <th>DevelopmentYear</th>\n",
       "      <th>ReportedAmount</th>\n",
       "    </tr>\n",
       "  </thead>\n",
       "  <tbody>\n",
       "    <tr>\n",
       "      <th>0</th>\n",
       "      <td>2018</td>\n",
       "      <td>0</td>\n",
       "      <td>26725.99</td>\n",
       "    </tr>\n",
       "    <tr>\n",
       "      <th>1</th>\n",
       "      <td>2018</td>\n",
       "      <td>1</td>\n",
       "      <td>21451.26</td>\n",
       "    </tr>\n",
       "    <tr>\n",
       "      <th>2</th>\n",
       "      <td>2018</td>\n",
       "      <td>2</td>\n",
       "      <td>7777.12</td>\n",
       "    </tr>\n",
       "    <tr>\n",
       "      <th>3</th>\n",
       "      <td>2018</td>\n",
       "      <td>3</td>\n",
       "      <td>4191.15</td>\n",
       "    </tr>\n",
       "    <tr>\n",
       "      <th>4</th>\n",
       "      <td>2018</td>\n",
       "      <td>4</td>\n",
       "      <td>660.98</td>\n",
       "    </tr>\n",
       "    <tr>\n",
       "      <th>5</th>\n",
       "      <td>2018</td>\n",
       "      <td>5</td>\n",
       "      <td>1269.55</td>\n",
       "    </tr>\n",
       "    <tr>\n",
       "      <th>6</th>\n",
       "      <td>2019</td>\n",
       "      <td>0</td>\n",
       "      <td>37783.57</td>\n",
       "    </tr>\n",
       "    <tr>\n",
       "      <th>7</th>\n",
       "      <td>2019</td>\n",
       "      <td>1</td>\n",
       "      <td>25188.20</td>\n",
       "    </tr>\n",
       "    <tr>\n",
       "      <th>8</th>\n",
       "      <td>2019</td>\n",
       "      <td>2</td>\n",
       "      <td>5597.41</td>\n",
       "    </tr>\n",
       "    <tr>\n",
       "      <th>9</th>\n",
       "      <td>2019</td>\n",
       "      <td>3</td>\n",
       "      <td>3973.32</td>\n",
       "    </tr>\n",
       "    <tr>\n",
       "      <th>10</th>\n",
       "      <td>2019</td>\n",
       "      <td>4</td>\n",
       "      <td>2351.85</td>\n",
       "    </tr>\n",
       "    <tr>\n",
       "      <th>11</th>\n",
       "      <td>2020</td>\n",
       "      <td>0</td>\n",
       "      <td>33457.63</td>\n",
       "    </tr>\n",
       "    <tr>\n",
       "      <th>12</th>\n",
       "      <td>2020</td>\n",
       "      <td>1</td>\n",
       "      <td>7856.27</td>\n",
       "    </tr>\n",
       "    <tr>\n",
       "      <th>13</th>\n",
       "      <td>2020</td>\n",
       "      <td>2</td>\n",
       "      <td>7552.57</td>\n",
       "    </tr>\n",
       "    <tr>\n",
       "      <th>14</th>\n",
       "      <td>2020</td>\n",
       "      <td>3</td>\n",
       "      <td>2217.59</td>\n",
       "    </tr>\n",
       "    <tr>\n",
       "      <th>15</th>\n",
       "      <td>2021</td>\n",
       "      <td>0</td>\n",
       "      <td>44995.22</td>\n",
       "    </tr>\n",
       "    <tr>\n",
       "      <th>16</th>\n",
       "      <td>2021</td>\n",
       "      <td>1</td>\n",
       "      <td>14213.78</td>\n",
       "    </tr>\n",
       "    <tr>\n",
       "      <th>17</th>\n",
       "      <td>2021</td>\n",
       "      <td>2</td>\n",
       "      <td>6269.30</td>\n",
       "    </tr>\n",
       "    <tr>\n",
       "      <th>18</th>\n",
       "      <td>2022</td>\n",
       "      <td>0</td>\n",
       "      <td>54175.61</td>\n",
       "    </tr>\n",
       "    <tr>\n",
       "      <th>19</th>\n",
       "      <td>2022</td>\n",
       "      <td>1</td>\n",
       "      <td>13198.84</td>\n",
       "    </tr>\n",
       "    <tr>\n",
       "      <th>20</th>\n",
       "      <td>2023</td>\n",
       "      <td>0</td>\n",
       "      <td>24262.84</td>\n",
       "    </tr>\n",
       "  </tbody>\n",
       "</table>\n",
       "</div>"
      ],
      "text/plain": [
       "    AccidentYear  DevelopmentYear  ReportedAmount\n",
       "0           2018                0        26725.99\n",
       "1           2018                1        21451.26\n",
       "2           2018                2         7777.12\n",
       "3           2018                3         4191.15\n",
       "4           2018                4          660.98\n",
       "5           2018                5         1269.55\n",
       "6           2019                0        37783.57\n",
       "7           2019                1        25188.20\n",
       "8           2019                2         5597.41\n",
       "9           2019                3         3973.32\n",
       "10          2019                4         2351.85\n",
       "11          2020                0        33457.63\n",
       "12          2020                1         7856.27\n",
       "13          2020                2         7552.57\n",
       "14          2020                3         2217.59\n",
       "15          2021                0        44995.22\n",
       "16          2021                1        14213.78\n",
       "17          2021                2         6269.30\n",
       "18          2022                0        54175.61\n",
       "19          2022                1        13198.84\n",
       "20          2023                0        24262.84"
      ]
     },
     "execution_count": 4,
     "metadata": {},
     "output_type": "execute_result"
    }
   ],
   "source": [
    "query = \"SELECT * FROM ClaimsTriangle ORDER BY AccidentYear, DevelopmentYear;\"\n",
    "pd.read_sql_query(query, conn)"
   ]
  },
  {
   "cell_type": "markdown",
   "id": "2b6babb3",
   "metadata": {},
   "source": [
    "## 📐 Step 2: Pivot into Triangle Format"
   ]
  },
  {
   "cell_type": "code",
   "execution_count": 5,
   "id": "b54a4e1c",
   "metadata": {
    "scrolled": false
   },
   "outputs": [
    {
     "data": {
      "text/html": [
       "<div>\n",
       "<style scoped>\n",
       "    .dataframe tbody tr th:only-of-type {\n",
       "        vertical-align: middle;\n",
       "    }\n",
       "\n",
       "    .dataframe tbody tr th {\n",
       "        vertical-align: top;\n",
       "    }\n",
       "\n",
       "    .dataframe thead th {\n",
       "        text-align: right;\n",
       "    }\n",
       "</style>\n",
       "<table border=\"1\" class=\"dataframe\">\n",
       "  <thead>\n",
       "    <tr style=\"text-align: right;\">\n",
       "      <th>DevelopmentYear</th>\n",
       "      <th>0</th>\n",
       "      <th>1</th>\n",
       "      <th>2</th>\n",
       "      <th>3</th>\n",
       "      <th>4</th>\n",
       "      <th>5</th>\n",
       "    </tr>\n",
       "    <tr>\n",
       "      <th>AccidentYear</th>\n",
       "      <th></th>\n",
       "      <th></th>\n",
       "      <th></th>\n",
       "      <th></th>\n",
       "      <th></th>\n",
       "      <th></th>\n",
       "    </tr>\n",
       "  </thead>\n",
       "  <tbody>\n",
       "    <tr>\n",
       "      <th>2018</th>\n",
       "      <td>26725.99</td>\n",
       "      <td>21451.26</td>\n",
       "      <td>7777.12</td>\n",
       "      <td>4191.15</td>\n",
       "      <td>660.98</td>\n",
       "      <td>1269.55</td>\n",
       "    </tr>\n",
       "    <tr>\n",
       "      <th>2019</th>\n",
       "      <td>37783.57</td>\n",
       "      <td>25188.20</td>\n",
       "      <td>5597.41</td>\n",
       "      <td>3973.32</td>\n",
       "      <td>2351.85</td>\n",
       "      <td>NaN</td>\n",
       "    </tr>\n",
       "    <tr>\n",
       "      <th>2020</th>\n",
       "      <td>33457.63</td>\n",
       "      <td>7856.27</td>\n",
       "      <td>7552.57</td>\n",
       "      <td>2217.59</td>\n",
       "      <td>NaN</td>\n",
       "      <td>NaN</td>\n",
       "    </tr>\n",
       "    <tr>\n",
       "      <th>2021</th>\n",
       "      <td>44995.22</td>\n",
       "      <td>14213.78</td>\n",
       "      <td>6269.30</td>\n",
       "      <td>NaN</td>\n",
       "      <td>NaN</td>\n",
       "      <td>NaN</td>\n",
       "    </tr>\n",
       "    <tr>\n",
       "      <th>2022</th>\n",
       "      <td>54175.61</td>\n",
       "      <td>13198.84</td>\n",
       "      <td>NaN</td>\n",
       "      <td>NaN</td>\n",
       "      <td>NaN</td>\n",
       "      <td>NaN</td>\n",
       "    </tr>\n",
       "    <tr>\n",
       "      <th>2023</th>\n",
       "      <td>24262.84</td>\n",
       "      <td>NaN</td>\n",
       "      <td>NaN</td>\n",
       "      <td>NaN</td>\n",
       "      <td>NaN</td>\n",
       "      <td>NaN</td>\n",
       "    </tr>\n",
       "  </tbody>\n",
       "</table>\n",
       "</div>"
      ],
      "text/plain": [
       "DevelopmentYear         0         1        2        3        4        5\n",
       "AccidentYear                                                           \n",
       "2018             26725.99  21451.26  7777.12  4191.15   660.98  1269.55\n",
       "2019             37783.57  25188.20  5597.41  3973.32  2351.85      NaN\n",
       "2020             33457.63   7856.27  7552.57  2217.59      NaN      NaN\n",
       "2021             44995.22  14213.78  6269.30      NaN      NaN      NaN\n",
       "2022             54175.61  13198.84      NaN      NaN      NaN      NaN\n",
       "2023             24262.84       NaN      NaN      NaN      NaN      NaN"
      ]
     },
     "execution_count": 5,
     "metadata": {},
     "output_type": "execute_result"
    }
   ],
   "source": [
    "triangle_df = pd.read_sql_query(query, conn)\n",
    "triangle = triangle_df.pivot(index='AccidentYear', columns='DevelopmentYear', values='ReportedAmount')\n",
    "triangle"
   ]
  },
  {
   "cell_type": "markdown",
   "id": "e5b1af84",
   "metadata": {},
   "source": [
    "A claims triangle is a structured table used in insurance to track how claims for each accident year develop over time. Rows represent the year in which claims occurred (accident year), and columns represent the number of years since the claim occurred (development year). Each cell shows the cumulative amount of claims reported or paid by that development year. This triangular format allows actuaries to analyze patterns in claim development and project future claims, which is essential for estimating reserves like IBNR (Incurred But Not Reported)."
   ]
  },
  {
   "cell_type": "markdown",
   "id": "cf000999",
   "metadata": {},
   "source": [
    "# Why We Do This:"
   ]
  },
  {
   "cell_type": "markdown",
   "id": "7e958c9b",
   "metadata": {},
   "source": [
    "This pivoted format is essential for actuarial techniques like:\n",
    "- Chain-Ladder\n",
    "- Bornhuetter-Ferguson\n",
    "- Development factor projections\n",
    "\n",
    "These methods rely on:\n",
    "- Looking across columns to compute how claims grow from one year to the next\n",
    "- Projecting the missing (future) parts of the triangle\n",
    "- Estimating ultimate losses and IBNR (Incurred But Not Reported)\n",
    "\n",
    "Without the pivot, the data is just a flat list — not useful for trend and development analysis."
   ]
  },
  {
   "cell_type": "markdown",
   "id": "3f029223",
   "metadata": {},
   "source": [
    "## 📈 Step 3: Calculate Link Ratios (Age-to-Age Factors)"
   ]
  },
  {
   "cell_type": "code",
   "execution_count": 6,
   "id": "af25e619",
   "metadata": {
    "scrolled": false
   },
   "outputs": [
    {
     "data": {
      "text/html": [
       "<div>\n",
       "<style scoped>\n",
       "    .dataframe tbody tr th:only-of-type {\n",
       "        vertical-align: middle;\n",
       "    }\n",
       "\n",
       "    .dataframe tbody tr th {\n",
       "        vertical-align: top;\n",
       "    }\n",
       "\n",
       "    .dataframe thead th {\n",
       "        text-align: right;\n",
       "    }\n",
       "</style>\n",
       "<table border=\"1\" class=\"dataframe\">\n",
       "  <thead>\n",
       "    <tr style=\"text-align: right;\">\n",
       "      <th>DevelopmentYear</th>\n",
       "      <th>0</th>\n",
       "      <th>1</th>\n",
       "      <th>2</th>\n",
       "      <th>3</th>\n",
       "      <th>4</th>\n",
       "    </tr>\n",
       "    <tr>\n",
       "      <th>AccidentYear</th>\n",
       "      <th></th>\n",
       "      <th></th>\n",
       "      <th></th>\n",
       "      <th></th>\n",
       "      <th></th>\n",
       "    </tr>\n",
       "  </thead>\n",
       "  <tbody>\n",
       "    <tr>\n",
       "      <th>2018</th>\n",
       "      <td>0.802637</td>\n",
       "      <td>0.362548</td>\n",
       "      <td>0.538908</td>\n",
       "      <td>0.157709</td>\n",
       "      <td>1.920709</td>\n",
       "    </tr>\n",
       "    <tr>\n",
       "      <th>2019</th>\n",
       "      <td>0.666644</td>\n",
       "      <td>0.222224</td>\n",
       "      <td>0.709850</td>\n",
       "      <td>0.591911</td>\n",
       "      <td>NaN</td>\n",
       "    </tr>\n",
       "    <tr>\n",
       "      <th>2020</th>\n",
       "      <td>0.234813</td>\n",
       "      <td>0.961343</td>\n",
       "      <td>0.293621</td>\n",
       "      <td>NaN</td>\n",
       "      <td>NaN</td>\n",
       "    </tr>\n",
       "    <tr>\n",
       "      <th>2021</th>\n",
       "      <td>0.315895</td>\n",
       "      <td>0.441072</td>\n",
       "      <td>NaN</td>\n",
       "      <td>NaN</td>\n",
       "      <td>NaN</td>\n",
       "    </tr>\n",
       "    <tr>\n",
       "      <th>2022</th>\n",
       "      <td>0.243631</td>\n",
       "      <td>NaN</td>\n",
       "      <td>NaN</td>\n",
       "      <td>NaN</td>\n",
       "      <td>NaN</td>\n",
       "    </tr>\n",
       "    <tr>\n",
       "      <th>2023</th>\n",
       "      <td>NaN</td>\n",
       "      <td>NaN</td>\n",
       "      <td>NaN</td>\n",
       "      <td>NaN</td>\n",
       "      <td>NaN</td>\n",
       "    </tr>\n",
       "  </tbody>\n",
       "</table>\n",
       "</div>"
      ],
      "text/plain": [
       "DevelopmentYear         0         1         2         3         4\n",
       "AccidentYear                                                     \n",
       "2018             0.802637  0.362548  0.538908  0.157709  1.920709\n",
       "2019             0.666644  0.222224  0.709850  0.591911       NaN\n",
       "2020             0.234813  0.961343  0.293621       NaN       NaN\n",
       "2021             0.315895  0.441072       NaN       NaN       NaN\n",
       "2022             0.243631       NaN       NaN       NaN       NaN\n",
       "2023                  NaN       NaN       NaN       NaN       NaN"
      ]
     },
     "execution_count": 6,
     "metadata": {},
     "output_type": "execute_result"
    }
   ],
   "source": [
    "link_ratios = triangle.shift(-1, axis=1) / triangle\n",
    "link_ratios = link_ratios.iloc[:, :-1]\n",
    "link_ratios"
   ]
  },
  {
   "cell_type": "markdown",
   "id": "cb66f37c",
   "metadata": {},
   "source": [
    "In this step, we're calculating link ratios (also known as development factors) from the claims triangle. These ratios represent how claims grow from one development year to the next within each accident year. To do this, we shift the triangle one column to the left so that each value lines up with the value from the following development year, then divide the shifted values by the original triangle values. This gives us a matrix of growth factors between successive development years. Finally, we remove the last column, which contains invalid values due to the shift. These link ratios are essential for projecting future claims and estimating total reserves using methods like the Chain-Ladder technique."
   ]
  },
  {
   "cell_type": "markdown",
   "id": "fc151ac5",
   "metadata": {},
   "source": [
    "# Why We Do This: "
   ]
  },
  {
   "cell_type": "markdown",
   "id": "8061499e",
   "metadata": {},
   "source": [
    "We calculate link ratios to understand how claims grow from one development year to the next. These ratios are the backbone of the Chain-Ladder method, which uses historical development patterns to project future claims and estimate ultimate losses. By averaging these link ratios, actuaries can fill in the missing parts of the triangle."
   ]
  },
  {
   "cell_type": "markdown",
   "id": "b729dbba",
   "metadata": {},
   "source": [
    "## 📊 Step 4: Average Link Ratios"
   ]
  },
  {
   "cell_type": "code",
   "execution_count": 7,
   "id": "7aa2c66d",
   "metadata": {},
   "outputs": [
    {
     "data": {
      "text/plain": [
       "DevelopmentYear\n",
       "0    0.452724\n",
       "1    0.496797\n",
       "2    0.514126\n",
       "3    0.374810\n",
       "4    1.920709\n",
       "dtype: float64"
      ]
     },
     "execution_count": 7,
     "metadata": {},
     "output_type": "execute_result"
    }
   ],
   "source": [
    "avg_link_ratios = link_ratios.mean()\n",
    "avg_link_ratios"
   ]
  },
  {
   "cell_type": "markdown",
   "id": "8e6418e3",
   "metadata": {},
   "source": [
    "## 🔮 Step 5: Estimate Ultimate Claims"
   ]
  },
  {
   "cell_type": "code",
   "execution_count": 8,
   "id": "90b4c4db",
   "metadata": {
    "scrolled": true
   },
   "outputs": [
    {
     "data": {
      "text/html": [
       "<div>\n",
       "<style scoped>\n",
       "    .dataframe tbody tr th:only-of-type {\n",
       "        vertical-align: middle;\n",
       "    }\n",
       "\n",
       "    .dataframe tbody tr th {\n",
       "        vertical-align: top;\n",
       "    }\n",
       "\n",
       "    .dataframe thead th {\n",
       "        text-align: right;\n",
       "    }\n",
       "</style>\n",
       "<table border=\"1\" class=\"dataframe\">\n",
       "  <thead>\n",
       "    <tr style=\"text-align: right;\">\n",
       "      <th>DevelopmentYear</th>\n",
       "      <th>0</th>\n",
       "      <th>1</th>\n",
       "      <th>2</th>\n",
       "      <th>3</th>\n",
       "      <th>4</th>\n",
       "      <th>5</th>\n",
       "    </tr>\n",
       "    <tr>\n",
       "      <th>AccidentYear</th>\n",
       "      <th></th>\n",
       "      <th></th>\n",
       "      <th></th>\n",
       "      <th></th>\n",
       "      <th></th>\n",
       "      <th></th>\n",
       "    </tr>\n",
       "  </thead>\n",
       "  <tbody>\n",
       "    <tr>\n",
       "      <th>2018</th>\n",
       "      <td>26725.99</td>\n",
       "      <td>21451.26</td>\n",
       "      <td>7777.12</td>\n",
       "      <td>4191.15</td>\n",
       "      <td>660.98</td>\n",
       "      <td>1269.55</td>\n",
       "    </tr>\n",
       "    <tr>\n",
       "      <th>2019</th>\n",
       "      <td>37783.57</td>\n",
       "      <td>25188.20</td>\n",
       "      <td>5597.41</td>\n",
       "      <td>3973.32</td>\n",
       "      <td>2351.85</td>\n",
       "      <td>4517.22</td>\n",
       "    </tr>\n",
       "    <tr>\n",
       "      <th>2020</th>\n",
       "      <td>33457.63</td>\n",
       "      <td>7856.27</td>\n",
       "      <td>7552.57</td>\n",
       "      <td>2217.59</td>\n",
       "      <td>831.17</td>\n",
       "      <td>1596.44</td>\n",
       "    </tr>\n",
       "    <tr>\n",
       "      <th>2021</th>\n",
       "      <td>44995.22</td>\n",
       "      <td>14213.78</td>\n",
       "      <td>6269.30</td>\n",
       "      <td>3223.21</td>\n",
       "      <td>1208.09</td>\n",
       "      <td>2320.39</td>\n",
       "    </tr>\n",
       "    <tr>\n",
       "      <th>2022</th>\n",
       "      <td>54175.61</td>\n",
       "      <td>13198.84</td>\n",
       "      <td>6557.14</td>\n",
       "      <td>3371.20</td>\n",
       "      <td>1263.56</td>\n",
       "      <td>2426.92</td>\n",
       "    </tr>\n",
       "    <tr>\n",
       "      <th>2023</th>\n",
       "      <td>24262.84</td>\n",
       "      <td>10984.37</td>\n",
       "      <td>5457.00</td>\n",
       "      <td>2805.58</td>\n",
       "      <td>1051.56</td>\n",
       "      <td>2019.74</td>\n",
       "    </tr>\n",
       "  </tbody>\n",
       "</table>\n",
       "</div>"
      ],
      "text/plain": [
       "DevelopmentYear         0         1        2        3        4        5\n",
       "AccidentYear                                                           \n",
       "2018             26725.99  21451.26  7777.12  4191.15   660.98  1269.55\n",
       "2019             37783.57  25188.20  5597.41  3973.32  2351.85  4517.22\n",
       "2020             33457.63   7856.27  7552.57  2217.59   831.17  1596.44\n",
       "2021             44995.22  14213.78  6269.30  3223.21  1208.09  2320.39\n",
       "2022             54175.61  13198.84  6557.14  3371.20  1263.56  2426.92\n",
       "2023             24262.84  10984.37  5457.00  2805.58  1051.56  2019.74"
      ]
     },
     "execution_count": 8,
     "metadata": {},
     "output_type": "execute_result"
    }
   ],
   "source": [
    "latest_triangle = triangle.copy()\n",
    "for col in range(latest_triangle.shape[1], 6):\n",
    "    latest_triangle[col] = np.nan\n",
    "for i in range(len(latest_triangle)):\n",
    "    for j in range(1, 6):\n",
    "        if pd.isna(latest_triangle.iloc[i, j]):\n",
    "            latest_triangle.iloc[i, j] = latest_triangle.iloc[i, j - 1] * avg_link_ratios[j - 1]\n",
    "latest_triangle = latest_triangle.round(2)\n",
    "latest_triangle"
   ]
  },
  {
   "cell_type": "markdown",
   "id": "f5aa0688",
   "metadata": {},
   "source": [
    "In this step, we are completing the claims triangle by projecting future claim amounts using the previously calculated average link ratios. First, empty columns (filled with NaN) are added to extend the triangle to six development years. Then, for each missing value in the triangle, we multiply the previous year's claim amount by the corresponding average link ratio to estimate the next year's value. This iterative process fills in the lower triangle, allowing us to estimate ultimate claims for each accident year. Finally, the values are rounded for presentation."
   ]
  },
  {
   "cell_type": "markdown",
   "id": "0c6ea7cd",
   "metadata": {},
   "source": [
    "# Why We Do This:"
   ]
  },
  {
   "cell_type": "markdown",
   "id": "4e8152a0",
   "metadata": {},
   "source": [
    "- To estimate future claims: Many claims develop over multiple years; projecting allows us to estimate those still outstanding.\n",
    "- To calculate ultimate claims: Filling in the full triangle helps determine the total expected cost of claims for each accident year.\n",
    "- To estimate reserves: The difference between projected ultimate claims and reported claims gives us IBNR (Incurred But Not Reported) reserves.\n",
    "- To apply actuarial methods: Techniques like the Chain-Ladder method require a fully populated triangle to work properly.\n",
    "- To support financial reporting: Insurance companies need complete estimates of future liabilities for regulatory, solvency, and financial reporting purposes."
   ]
  },
  {
   "cell_type": "markdown",
   "id": "121cc2bb",
   "metadata": {},
   "source": [
    "## 🌡️ Step 6: Visualize as Heatmap"
   ]
  },
  {
   "cell_type": "code",
   "execution_count": 10,
   "id": "e1b57641",
   "metadata": {
    "scrolled": true
   },
   "outputs": [
    {
     "data": {
      "image/png": "[encoded data removed]",
      "text/plain": [
       "<Figure size 1000x600 with 2 Axes>"
      ]
     },
     "metadata": {},
     "output_type": "display_data"
    }
   ],
   "source": [
    "plt.figure(figsize=(10, 6))\n",
    "sns.heatmap(latest_triangle, annot=True, fmt=\".0f\", cmap=\"YlGnBu\")\n",
    "plt.title(\"Claims Development Triangle Heatmap\")\n",
    "plt.xlabel(\"Development Year\")\n",
    "plt.ylabel(\"Accident Year\")\n",
    "plt.tight_layout()\n",
    "plt.show()"
   ]
  },
  {
   "cell_type": "markdown",
   "id": "c6307e12",
   "metadata": {},
   "source": [
    "# Why We Do This:"
   ]
  },
  {
   "cell_type": "markdown",
   "id": "f98d07f8",
   "metadata": {},
   "source": [
    "We create a heatmap of the completed claims triangle for several key reasons:\n",
    "- To visualize the data clearly: A heatmap makes it easier to spot trends, patterns, and anomalies in claim development across years.\n",
    "- To verify projections: It helps us visually confirm that the projected values follow a logical progression, based on historical patterns.\n",
    "- To communicate results: Visuals are more intuitive and easier to interpret than raw numbers, especially for stakeholders without a technical background.\n",
    "- To identify outliers: Sharp jumps or inconsistencies in claim amounts stand out in a heatmap and can prompt further investigation.\n",
    "- To support decision-making: Clear visuals aid actuaries, underwriters, and executives in understanding reserve levels and making informed decisions."
   ]
  },
  {
   "cell_type": "markdown",
   "id": "ca72e3b5",
   "metadata": {},
   "source": [
    "## ✅ Done!"
   ]
  },
  {
   "cell_type": "code",
   "execution_count": 11,
   "id": "154688db",
   "metadata": {},
   "outputs": [],
   "source": [
    "conn.close()"
   ]
  }
 ],
 "metadata": {
  "kernelspec": {
   "display_name": "Python 3 (ipykernel)",
   "language": "python",
   "name": "python3"
  },
  "language_info": {
   "codemirror_mode": {
    "name": "ipython",
    "version": 3
   },
   "file_extension": ".py",
   "mimetype": "text/x-python",
   "name": "python",
   "nbconvert_exporter": "python",
   "pygments_lexer": "ipython3",
   "version": "3.9.13"
  }
 },
 "nbformat": 4,
 "nbformat_minor": 5
}
